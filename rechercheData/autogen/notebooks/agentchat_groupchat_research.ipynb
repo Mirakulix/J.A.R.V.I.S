{
 "cells": [
  {
   "attachments": {},
   "cell_type": "markdown",
   "metadata": {},
   "source": [
    "<a href=\"https://colab.research.google.com/github/microsoft/autogen/blob/main/notebook/agentchat_groupchat_research.ipynb\" target=\"_parent\"><img src=\"https://colab.research.google.com/assets/colab-badge.svg\" alt=\"Open In Colab\"/></a>"
   ]
  },
  {
   "attachments": {},
   "cell_type": "markdown",
   "metadata": {},
   "source": [
    "# Auto Generated Agent Chat: Performs Research with Multi-Agent Group Chat\n",
    "\n",
    "AutoGen offers conversable agents powered by LLM, tool, or human, which can be used to perform tasks collectively via automated chat. This framework allows tool use and human participation through multi-agent conversation.\n",
    "Please find documentation about this feature [here](https://microsoft.github.io/autogen/docs/Use-Cases/agent_chat).\n",
    "\n",
    "## Requirements\n",
    "\n",
    "AutoGen requires `Python>=3.8`. To run this notebook example, please install:\n",
    "```bash\n",
    "pip install pyautogen\n",
    "```"
   ]
  },
  {
   "cell_type": "code",
   "execution_count": 30,
   "metadata": {},
   "outputs": [],
   "source": [
    "%%capture --no-stderr\n",
    "# %pip install pyautogen~=0.2.0b4"
   ]
  },
  {
   "attachments": {},
   "cell_type": "markdown",
   "metadata": {},
   "source": [
    "## Set your API Endpoint\n",
    "\n",
    "The [`config_list_from_json`](https://microsoft.github.io/autogen/docs/reference/oai/openai_utils#config_list_from_json) function loads a list of configurations from an environment variable or a json file."
   ]
  },
  {
   "attachments": {},
   "cell_type": "markdown",
   "metadata": {},
   "source": [
    "It first looks for environment variable \"OAI_CONFIG_LIST\" which needs to be a valid json string. If that variable is not found, it then looks for a json file named \"OAI_CONFIG_LIST\". It filters the configs by models (you can filter by other keys as well).\n",
    "\n",
    "The config list looks like the following:\n",
    "```python\n",
    "config_list = [\n",
    "    {\n",
    "        'model': 'gpt-4-32k',\n",
    "        'api_key': '<your OpenAI API key here>',\n",
    "    },\n",
    "    {\n",
    "        'model': 'gpt-4-32k',\n",
    "        'api_key': '<your Azure OpenAI API key here>',\n",
    "        'base_url': '<your Azure OpenAI API base here>',\n",
    "        'api_type': 'azure',\n",
    "        'api_version': '2023-06-01-preview',\n",
    "    },\n",
    "    {\n",
    "        'model': 'gpt-4-32k-0314',\n",
    "        'api_key': '<your Azure OpenAI API key here>',\n",
    "        'base_url': '<your Azure OpenAI API base here>',\n",
    "        'api_type': 'azure',\n",
    "        'api_version': '2023-06-01-preview',\n",
    "    },\n",
    "]\n",
    "```\n",
    "\n",
    "You can set the value of config_list in any way you prefer. Please refer to this [notebook](https://github.com/microsoft/autogen/blob/main/notebook/oai_openai_utils.ipynb) for full code examples of the different methods."
   ]
  },
  {
   "attachments": {},
   "cell_type": "markdown",
   "metadata": {},
   "source": [
    "## Construct Agents"
   ]
  },
  {
   "cell_type": "code",
   "execution_count": 32,
   "metadata": {},
   "outputs": [
    {
     "ename": "AttributeError",
     "evalue": "module 'autogen' has no attribute 'UserProxyAgent'",
     "output_type": "error",
     "traceback": [
      "\u001b[0;31m---------------------------------------------------------------------------\u001b[0m",
      "\u001b[0;31mAttributeError\u001b[0m                            Traceback (most recent call last)",
      "\u001b[1;32m/Users/flo/development/J.A.R.V.I.S./rechercheData/autogen/notebooks/agentchat_groupchat_research.ipynb Cell 8\u001b[0m line \u001b[0;36m4\n\u001b[1;32m     <a href='vscode-notebook-cell:/Users/flo/development/J.A.R.V.I.S./rechercheData/autogen/notebooks/agentchat_groupchat_research.ipynb#X10sZmlsZQ%3D%3D?line=23'>24</a>\u001b[0m config_list_gpt4 \u001b[39m=\u001b[39m [\n\u001b[1;32m     <a href='vscode-notebook-cell:/Users/flo/development/J.A.R.V.I.S./rechercheData/autogen/notebooks/agentchat_groupchat_research.ipynb#X10sZmlsZQ%3D%3D?line=24'>25</a>\u001b[0m     {\n\u001b[1;32m     <a href='vscode-notebook-cell:/Users/flo/development/J.A.R.V.I.S./rechercheData/autogen/notebooks/agentchat_groupchat_research.ipynb#X10sZmlsZQ%3D%3D?line=25'>26</a>\u001b[0m         \u001b[39m'\u001b[39m\u001b[39mmodel\u001b[39m\u001b[39m'\u001b[39m: \u001b[39m'\u001b[39m\u001b[39mgpt-4-1106-preview\u001b[39m\u001b[39m'\u001b[39m,\n\u001b[0;32m   (...)\u001b[0m\n\u001b[1;32m     <a href='vscode-notebook-cell:/Users/flo/development/J.A.R.V.I.S./rechercheData/autogen/notebooks/agentchat_groupchat_research.ipynb#X10sZmlsZQ%3D%3D?line=35'>36</a>\u001b[0m     }\n\u001b[1;32m     <a href='vscode-notebook-cell:/Users/flo/development/J.A.R.V.I.S./rechercheData/autogen/notebooks/agentchat_groupchat_research.ipynb#X10sZmlsZQ%3D%3D?line=36'>37</a>\u001b[0m ]\n\u001b[1;32m     <a href='vscode-notebook-cell:/Users/flo/development/J.A.R.V.I.S./rechercheData/autogen/notebooks/agentchat_groupchat_research.ipynb#X10sZmlsZQ%3D%3D?line=38'>39</a>\u001b[0m gpt4_config \u001b[39m=\u001b[39m {\n\u001b[1;32m     <a href='vscode-notebook-cell:/Users/flo/development/J.A.R.V.I.S./rechercheData/autogen/notebooks/agentchat_groupchat_research.ipynb#X10sZmlsZQ%3D%3D?line=39'>40</a>\u001b[0m     \u001b[39m\"\u001b[39m\u001b[39mcache_seed\u001b[39m\u001b[39m\"\u001b[39m: \u001b[39m42\u001b[39m,  \u001b[39m# change the cache_seed for different trials\u001b[39;00m\n\u001b[1;32m     <a href='vscode-notebook-cell:/Users/flo/development/J.A.R.V.I.S./rechercheData/autogen/notebooks/agentchat_groupchat_research.ipynb#X10sZmlsZQ%3D%3D?line=40'>41</a>\u001b[0m     \u001b[39m\"\u001b[39m\u001b[39mtemperature\u001b[39m\u001b[39m\"\u001b[39m: \u001b[39m0\u001b[39m,\n\u001b[1;32m     <a href='vscode-notebook-cell:/Users/flo/development/J.A.R.V.I.S./rechercheData/autogen/notebooks/agentchat_groupchat_research.ipynb#X10sZmlsZQ%3D%3D?line=41'>42</a>\u001b[0m     \u001b[39m\"\u001b[39m\u001b[39mconfig_list\u001b[39m\u001b[39m\"\u001b[39m: config_list_gpt4,\n\u001b[1;32m     <a href='vscode-notebook-cell:/Users/flo/development/J.A.R.V.I.S./rechercheData/autogen/notebooks/agentchat_groupchat_research.ipynb#X10sZmlsZQ%3D%3D?line=42'>43</a>\u001b[0m     \u001b[39m\"\u001b[39m\u001b[39mtimeout\u001b[39m\u001b[39m\"\u001b[39m: \u001b[39m120\u001b[39m,\n\u001b[1;32m     <a href='vscode-notebook-cell:/Users/flo/development/J.A.R.V.I.S./rechercheData/autogen/notebooks/agentchat_groupchat_research.ipynb#X10sZmlsZQ%3D%3D?line=43'>44</a>\u001b[0m }\n\u001b[0;32m---> <a href='vscode-notebook-cell:/Users/flo/development/J.A.R.V.I.S./rechercheData/autogen/notebooks/agentchat_groupchat_research.ipynb#X10sZmlsZQ%3D%3D?line=44'>45</a>\u001b[0m user_proxy \u001b[39m=\u001b[39m autogen\u001b[39m.\u001b[39;49mUserProxyAgent(\n\u001b[1;32m     <a href='vscode-notebook-cell:/Users/flo/development/J.A.R.V.I.S./rechercheData/autogen/notebooks/agentchat_groupchat_research.ipynb#X10sZmlsZQ%3D%3D?line=45'>46</a>\u001b[0m    name\u001b[39m=\u001b[39m\u001b[39m\"\u001b[39m\u001b[39mAdmin\u001b[39m\u001b[39m\"\u001b[39m,\n\u001b[1;32m     <a href='vscode-notebook-cell:/Users/flo/development/J.A.R.V.I.S./rechercheData/autogen/notebooks/agentchat_groupchat_research.ipynb#X10sZmlsZQ%3D%3D?line=46'>47</a>\u001b[0m    system_message\u001b[39m=\u001b[39m\u001b[39m\"\u001b[39m\u001b[39mA human admin. Interact with the planner to discuss the plan. Plan execution needs to be approved by this admin.\u001b[39m\u001b[39m\"\u001b[39m,\n\u001b[1;32m     <a href='vscode-notebook-cell:/Users/flo/development/J.A.R.V.I.S./rechercheData/autogen/notebooks/agentchat_groupchat_research.ipynb#X10sZmlsZQ%3D%3D?line=47'>48</a>\u001b[0m    code_execution_config\u001b[39m=\u001b[39m\u001b[39mFalse\u001b[39;00m,\n\u001b[1;32m     <a href='vscode-notebook-cell:/Users/flo/development/J.A.R.V.I.S./rechercheData/autogen/notebooks/agentchat_groupchat_research.ipynb#X10sZmlsZQ%3D%3D?line=48'>49</a>\u001b[0m )\n\u001b[1;32m     <a href='vscode-notebook-cell:/Users/flo/development/J.A.R.V.I.S./rechercheData/autogen/notebooks/agentchat_groupchat_research.ipynb#X10sZmlsZQ%3D%3D?line=49'>50</a>\u001b[0m engineer \u001b[39m=\u001b[39m autogen\u001b[39m.\u001b[39mAssistantAgent(\n\u001b[1;32m     <a href='vscode-notebook-cell:/Users/flo/development/J.A.R.V.I.S./rechercheData/autogen/notebooks/agentchat_groupchat_research.ipynb#X10sZmlsZQ%3D%3D?line=50'>51</a>\u001b[0m     name\u001b[39m=\u001b[39m\u001b[39m\"\u001b[39m\u001b[39mEngineer\u001b[39m\u001b[39m\"\u001b[39m,\n\u001b[1;32m     <a href='vscode-notebook-cell:/Users/flo/development/J.A.R.V.I.S./rechercheData/autogen/notebooks/agentchat_groupchat_research.ipynb#X10sZmlsZQ%3D%3D?line=51'>52</a>\u001b[0m     llm_config\u001b[39m=\u001b[39mgpt4_config,\n\u001b[0;32m   (...)\u001b[0m\n\u001b[1;32m     <a href='vscode-notebook-cell:/Users/flo/development/J.A.R.V.I.S./rechercheData/autogen/notebooks/agentchat_groupchat_research.ipynb#X10sZmlsZQ%3D%3D?line=54'>55</a>\u001b[0m \u001b[39m'''\u001b[39m,\n\u001b[1;32m     <a href='vscode-notebook-cell:/Users/flo/development/J.A.R.V.I.S./rechercheData/autogen/notebooks/agentchat_groupchat_research.ipynb#X10sZmlsZQ%3D%3D?line=55'>56</a>\u001b[0m )\n\u001b[1;32m     <a href='vscode-notebook-cell:/Users/flo/development/J.A.R.V.I.S./rechercheData/autogen/notebooks/agentchat_groupchat_research.ipynb#X10sZmlsZQ%3D%3D?line=56'>57</a>\u001b[0m developer \u001b[39m=\u001b[39m autogen\u001b[39m.\u001b[39mAssistantAgent(\n\u001b[1;32m     <a href='vscode-notebook-cell:/Users/flo/development/J.A.R.V.I.S./rechercheData/autogen/notebooks/agentchat_groupchat_research.ipynb#X10sZmlsZQ%3D%3D?line=57'>58</a>\u001b[0m     name\u001b[39m=\u001b[39m\u001b[39m\"\u001b[39m\u001b[39mDeveloper\u001b[39m\u001b[39m\"\u001b[39m,\n\u001b[1;32m     <a href='vscode-notebook-cell:/Users/flo/development/J.A.R.V.I.S./rechercheData/autogen/notebooks/agentchat_groupchat_research.ipynb#X10sZmlsZQ%3D%3D?line=58'>59</a>\u001b[0m     llm_config\u001b[39m=\u001b[39mgpt4_config,\n\u001b[1;32m     <a href='vscode-notebook-cell:/Users/flo/development/J.A.R.V.I.S./rechercheData/autogen/notebooks/agentchat_groupchat_research.ipynb#X10sZmlsZQ%3D%3D?line=59'>60</a>\u001b[0m     system_message\u001b[39m=\u001b[39m\u001b[39m'''\u001b[39m\u001b[39mDeveloper and DevOps Specialist. You are to adhere strictly to an approved plan. Your task involves writing Python and Shell scripts to address specific tasks. Ensure that your code is enclosed within a code block, clearly specifying the type of script. It is imperative to remember that users are not permitted to modify your code. Therefore, avoid submitting incomplete code that necessitates alterations by others. Use code blocks exclusively for code that is meant to be executed by the executor. Refrain from including multiple code blocks in a single response. Additionally, do not instruct others to copy and paste results. After execution, thoroughly review the results returned by the executor. In the event of an error, it is your responsibility to rectify the issue and provide the corrected code in its entirety. Offer complete solutions rather than fragments or mere modifications. If you encounter irreparable errors, or if the problem persists despite successful code execution, you must reassess your assumptions. Gather any additional information required and contemplate alternative strategies for resolution.\u001b[39m\u001b[39m'''\u001b[39m\n\u001b[1;32m     <a href='vscode-notebook-cell:/Users/flo/development/J.A.R.V.I.S./rechercheData/autogen/notebooks/agentchat_groupchat_research.ipynb#X10sZmlsZQ%3D%3D?line=60'>61</a>\u001b[0m \n\u001b[1;32m     <a href='vscode-notebook-cell:/Users/flo/development/J.A.R.V.I.S./rechercheData/autogen/notebooks/agentchat_groupchat_research.ipynb#X10sZmlsZQ%3D%3D?line=61'>62</a>\u001b[0m )\n",
      "\u001b[0;31mAttributeError\u001b[0m: module 'autogen' has no attribute 'UserProxyAgent'"
     ]
    }
   ],
   "source": [
    "import os\n",
    "import autogen\n",
    "\n",
    "\n",
    "config_list = [\n",
    "    {\n",
    "        'model': 'gpt-4-1106-preview',\n",
    "        'api_key': os.getenv('OPENAI_API_KEY'),\n",
    "    },\n",
    "    {\n",
    "        'model': 'gpt-4-vision-preview',\n",
    "        'api_key': os.getenv('OPENAI_API_KEY'),\n",
    "    },\n",
    "    {\n",
    "        'model': 'gpt-3.5-turbo-1106',\n",
    "        'api_key': os.getenv('OPENAI_API_KEY'),\n",
    "    },\n",
    "    {\n",
    "        'model': 'gpt-4-32k',\n",
    "        'api_key': os.getenv('OPENAI_API_KEY'),\n",
    "    },\n",
    "    {\n",
    "        'model': 'gpt-3.5-turbo-16k',\n",
    "        'api_key': os.getenv('OPENAI_API_KEY'),\n",
    "    }\n",
    "]\n",
    "\n",
    "config_list_gpt4 = [\n",
    "    {\n",
    "        'model': 'gpt-4-1106-preview',\n",
    "        'api_key': os.getenv('OPENAI_API_KEY'),\n",
    "    },\n",
    "    {\n",
    "        'model': 'gpt-4-vision-preview',\n",
    "        'api_key': os.getenv('OPENAI_API_KEY'),\n",
    "    },\n",
    "    {\n",
    "        'model': 'gpt-4-32k',\n",
    "        'api_key': os.getenv('OPENAI_API_KEY'),\n",
    "    }\n",
    "]\n",
    "\n",
    "gpt4_config = {\n",
    "    \"cache_seed\": 42,  # change the cache_seed for different trials\n",
    "    \"temperature\": 0,\n",
    "    \"config_list\": config_list_gpt4,\n",
    "    \"timeout\": 120,\n",
    "}\n",
    "user_proxy = autogen.UserProxyAgent(\n",
    "   name=\"Admin\",\n",
    "   system_message=\"A human admin. Interact with the planner to discuss the plan. Plan execution needs to be approved by this admin.\",\n",
    "   code_execution_config=False,\n",
    ")\n",
    "engineer = autogen.AssistantAgent(\n",
    "    name=\"Engineer\",\n",
    "    llm_config=gpt4_config,\n",
    "    system_message='''Engineer. You follow an approved plan. You write python/shell code to solve tasks. Wrap the code in a code block that specifies the script type. The user can't modify your code. So do not suggest incomplete code which requires others to modify. Don't use a code block if it's not intended to be executed by the executor. Don't include multiple code blocks in one response. Do not ask others to copy and paste the result. Check the execution result returned by the executor.\n",
    "If the result indicates there is an error, fix the error and output the code again. Suggest the full code instead of partial code or code changes. If the error can't be fixed or if the task is not solved even after the code is executed successfully, analyze the problem, revisit your assumption, collect additional info you need, and think of a different approach to try.\n",
    "''',\n",
    ")\n",
    "developer = autogen.AssistantAgent(\n",
    "    name=\"Developer\",\n",
    "    llm_config=gpt4_config,\n",
    "    system_message='''Developer and DevOps Specialist. You are to adhere strictly to an approved plan. Your task involves writing Python and Shell scripts to address specific tasks. Ensure that your code is enclosed within a code block, clearly specifying the type of script. It is imperative to remember that users are not permitted to modify your code. Therefore, avoid submitting incomplete code that necessitates alterations by others. Use code blocks exclusively for code that is meant to be executed by the executor. Refrain from including multiple code blocks in a single response. Additionally, do not instruct others to copy and paste results. After execution, thoroughly review the results returned by the executor. In the event of an error, it is your responsibility to rectify the issue and provide the corrected code in its entirety. Offer complete solutions rather than fragments or mere modifications. If you encounter irreparable errors, or if the problem persists despite successful code execution, you must reassess your assumptions. Gather any additional information required and contemplate alternative strategies for resolution.'''\n",
    "\n",
    ")\n",
    "scientist = autogen.AssistantAgent(\n",
    "    name=\"Scientist\",\n",
    "    llm_config=gpt4_config,\n",
    "    system_message=\"\"\"Scientist. You follow an approved plan. You are able to categorize papers after seeing their abstracts printed. You don't write code.\"\"\"\n",
    ")\n",
    "planner = autogen.AssistantAgent(\n",
    "    name=\"Planner\",\n",
    "    system_message='''Planner. Suggest a plan. Revise the plan based on feedback from admin and critic, until admin approval.\n",
    "The plan may involve an engineer who can write code and a scientist who doesn't write code.\n",
    "Explain the plan first. Be clear which step is performed by an engineer, and which step is performed by a scientist.\n",
    "''',\n",
    "    llm_config=gpt4_config,\n",
    ")\n",
    "executor = autogen.UserProxyAgent(\n",
    "    name=\"Executor\",\n",
    "    system_message=\"Executor. Execute the code written by the engineer and report the result.\",\n",
    "    human_input_mode=\"NEVER\",\n",
    "    code_execution_config={\"last_n_messages\": 3, \"work_dir\": \"paper\"},\n",
    ")\n",
    "critic = autogen.AssistantAgent(\n",
    "    name=\"Critic\",\n",
    "    system_message=\"Critic. Double check plan, claims, code from other agents and provide feedback. Check whether the plan includes adding verifiable info such as source URL.\",\n",
    "    llm_config=gpt4_config,\n",
    ")\n",
    "groupchat = autogen.GroupChat(agents=[user_proxy, engineer, scientist, planner, executor, critic], messages=[], max_round=50)\n",
    "manager = autogen.GroupChatManager(groupchat=groupchat, llm_config=gpt4_config)"
   ]
  },
  {
   "attachments": {},
   "cell_type": "markdown",
   "metadata": {},
   "source": [
    "## Start Chat"
   ]
  },
  {
   "cell_type": "code",
   "execution_count": null,
   "metadata": {},
   "outputs": [],
   "source": [
    "user_proxy.initiate_chat(\n",
    "    manager,\n",
    "    message=\"\"\"\n",
    "Develope and Create a J.A.R.V.I.S. AI Tool witten in Python with all relevant openAI API requests with gpt-4, especially for text-to-speech, speech-to-text, voice-recognition, vision, function caller and code interpreter. Design the project to run efficiently and fully functional.  For further examples please consider https://cookbook.openai.com or the whole openAI/cookbook or openAI/baselines repo located in \"openAI-packages/openai-cookbook\" (relativ link is starting form location of this script) providing good examples for openAI API usecases and code examples. Wenn möglich sollen alle python funktionen in dem Skript 'jarvis_autogen_v0.py' enthalten sein. Sollten doch bereits andere Dateien außerhalb des Python skripts jarvis_autogen_v0.py notwendig sein, soll ein eigener ordner mit jarvis_autogen_v0 erstellt und in diesem Ordner eine saubere und ordentliche Applicationstruktur mit Python als Hauptsprache mit den relevantesten, oben genannten openAI API Funktionen entwickelt werden. In der finalen Form, die noch viele Schritte entfernt liegt, soll das J.A.R.V.I.S. AI Tool mit einer breiten Kompatibilität (Smartphone App, PC, Mac, WebApp usw.), charmant, hoch gebildet und vor allem hilfreich und entlastend für seine menschlichen Partner sein.\n",
    "\"\"\",\n",
    ")"
   ]
  },
  {
   "attachments": {},
   "cell_type": "markdown",
   "metadata": {},
   "source": [
    "## Create Group Chat without Critic for Comparison"
   ]
  },
  {
   "cell_type": "code",
   "execution_count": null,
   "metadata": {},
   "outputs": [],
   "source": [
    "groupchat_nocritic = autogen.GroupChat(agents=[user_proxy, engineer, scientist, planner, executor], messages=[], max_round=50)\n",
    "for agent in groupchat.agents:\n",
    "    agent.reset()\n",
    "manager_nocritic = autogen.GroupChatManager(groupchat=groupchat_nocritic, llm_config=gpt4_config)\n",
    "user_proxy.initiate_chat(\n",
    "    manager_nocritic,\n",
    "    message=\"\"\"Develope and Create a J.A.R.V.I.S. AI Tool witten in Python with all relevant openAI API requests with gpt-4, especially for text-to-speech, speech-to-text, voice-recognition, vision, function caller and code interpreter. Design the project to run efficiently and fully functional.  For further examples please consider https://cookbook.openai.com or the whole openAI/cookbook or openAI/baselines repo located in \"openAI-packages/openai-cookbook\" (relativ link is starting form location of this script) providing good examples for openAI API usecases and code examples. Wenn möglich sollen alle python funktionen in dem Skript 'jarvis_autogen_v0.py' enthalten sein. Sollten doch bereits andere Dateien außerhalb des Python skripts jarvis_autogen_v0.py notwendig sein, soll ein eigener ordner mit jarvis_autogen_v0 erstellt und in diesem Ordner eine saubere und ordentliche Applicationstruktur mit Python als Hauptsprache mit den relevantesten, oben genannten openAI API Funktionen entwickelt werden. In der finalen Form, die noch viele Schritte entfernt liegt, soll das J.A.R.V.I.S. AI Tool mit einer breiten Kompatibilität (Smartphone App, PC, Mac, WebApp usw.), charmant, hoch gebildet und vor allem hilfreich und entlastend für seine menschlichen Partner sein.\"\"\",\n",
    ")"
   ]
  }
 ],
 "metadata": {
  "kernelspec": {
   "display_name": "flaml",
   "language": "python",
   "name": "python3"
  },
  "language_info": {
   "codemirror_mode": {
    "name": "ipython",
    "version": 3
   },
   "file_extension": ".py",
   "mimetype": "text/x-python",
   "name": "python",
   "nbconvert_exporter": "python",
   "pygments_lexer": "ipython3",
   "version": "3.11.6"
  },
  "orig_nbformat": 4
 },
 "nbformat": 4,
 "nbformat_minor": 2
}
